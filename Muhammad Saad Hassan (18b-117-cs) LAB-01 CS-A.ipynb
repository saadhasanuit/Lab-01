{
 "cells": [
  {
   "cell_type": "markdown",
   "metadata": {},
   "source": [
    "# Practice Problems"
   ]
  },
  {
   "cell_type": "code",
   "execution_count": 4,
   "metadata": {},
   "outputs": [
    {
     "name": "stdout",
     "output_type": "stream",
     "text": [
      "Assalam o Alekum,Python World!\n"
     ]
    }
   ],
   "source": [
    "message = \"Assalam o Alekum,Python World!\"\n",
    "print(message)"
   ]
  },
  {
   "cell_type": "code",
   "execution_count": 5,
   "metadata": {},
   "outputs": [
    {
     "name": "stdout",
     "output_type": "stream",
     "text": [
      "I am from Usaman Institude of Technology\n",
      "My students are great...\n"
     ]
    }
   ],
   "source": [
    "message2 = \"I am from Usaman Institude of Technology\"\n",
    "message3 = \"My students are great...\"\n",
    "print(message2)\n",
    "print(message3)"
   ]
  },
  {
   "cell_type": "code",
   "execution_count": 6,
   "metadata": {
    "scrolled": true
   },
   "outputs": [
    {
     "name": "stdout",
     "output_type": "stream",
     "text": [
      "Muhammad Saad Hassan\n",
      "MUHAMMAD SAAD HASSAN\n",
      "muhammad saad hassan\n"
     ]
    }
   ],
   "source": [
    "name = \"mUhAmMaD sAaD hAsSaN\"\n",
    "# three functions can be used title(),upper(),lower()\n",
    "print(name.title())\n",
    "print(name.upper())\n",
    "print(name.lower())"
   ]
  },
  {
   "cell_type": "code",
   "execution_count": 7,
   "metadata": {},
   "outputs": [
    {
     "name": "stdout",
     "output_type": "stream",
     "text": [
      "Tell me something,and I will repeat it back to you:I am the best\n",
      "I am the best\n"
     ]
    }
   ],
   "source": [
    "message = input(\"Tell me something,and I will repeat it back to you:\")\n",
    "print(message)"
   ]
  },
  {
   "cell_type": "code",
   "execution_count": 4,
   "metadata": {},
   "outputs": [
    {
     "name": "stdout",
     "output_type": "stream",
     "text": [
      "Please enter your name:Muhammad Saad Hassan\n",
      "Assalam o Alekum, Muhammad Saad Hassan!\n"
     ]
    }
   ],
   "source": [
    "name = input(\"Please enter your name:\")\n",
    "print(\"Assalam o Alekum, \" + name + \"!\")"
   ]
  },
  {
   "cell_type": "code",
   "execution_count": 3,
   "metadata": {},
   "outputs": [
    {
     "name": "stdout",
     "output_type": "stream",
     "text": [
      "Usman Institude Of Technology\n"
     ]
    }
   ],
   "source": [
    "uni_first_name = \"Usman\"\n",
    "uni_mid_name = \"Institude Of\"\n",
    "uni_last_name = \"Technology\"\n",
    "full_name = uni_first_name + \" \" + uni_mid_name + \" \" + uni_last_name\n",
    "print(full_name)"
   ]
  },
  {
   "cell_type": "code",
   "execution_count": 4,
   "metadata": {},
   "outputs": [
    {
     "name": "stdout",
     "output_type": "stream",
     "text": [
      "I learned these programming languages: \n",
      " C \n",
      " Java \n",
      " Python\n"
     ]
    }
   ],
   "source": [
    "print(\"I learned these programming languages: \\n C \\n Java \\n Python\")"
   ]
  },
  {
   "cell_type": "code",
   "execution_count": 5,
   "metadata": {},
   "outputs": [
    {
     "name": "stdout",
     "output_type": "stream",
     "text": [
      "7\n",
      "2\n",
      "25\n",
      "4.0\n",
      "4\n",
      "13\n",
      "16\n"
     ]
    }
   ],
   "source": [
    "# Add, Sub, Mul, Div , Pow\n",
    "\n",
    "print(2+5)\n",
    "print(6-4)\n",
    "print(5*5)\n",
    "print(6/1.5)\n",
    "print(2**2)\n",
    "print(3+5*2)\n",
    "print((3+5)*2)"
   ]
  },
  {
   "cell_type": "code",
   "execution_count": 6,
   "metadata": {},
   "outputs": [
    {
     "name": "stdout",
     "output_type": "stream",
     "text": [
      "7.2\n",
      "1.7999999999999998\n",
      "27.5\n",
      "4.0\n",
      "5.76\n",
      "13.4\n",
      "16.4\n"
     ]
    }
   ],
   "source": [
    "print(2.2+5)\n",
    "print(6-4.2)\n",
    "print(5*5.5)\n",
    "print(6/1.5)\n",
    "print(2.4**2)\n",
    "print(3+5.2*2)\n",
    "print((3+5.2)*2)"
   ]
  },
  {
   "cell_type": "markdown",
   "metadata": {},
   "source": [
    "# LAB 01"
   ]
  },
  {
   "cell_type": "markdown",
   "metadata": {},
   "source": [
    "   # CLass Task"
   ]
  },
  {
   "cell_type": "markdown",
   "metadata": {},
   "source": [
    "# Question 1"
   ]
  },
  {
   "cell_type": "code",
   "execution_count": 1,
   "metadata": {},
   "outputs": [
    {
     "name": "stdout",
     "output_type": "stream",
     "text": [
      "What s your name: Muhammad Saad Hasan\n",
      "How old are you: 17\n",
      "Muhammad Saad Hasan will be 100 years old in the year 2097\n"
     ]
    }
   ],
   "source": [
    "name = input(\"What s your name: \") \n",
    "age = int(input(\"How old are you: \")) \n",
    "year = str((2014 - age)+100) \n",
    "print(name + \" will be 100 years old in the year \" + year)"
   ]
  },
  {
   "cell_type": "markdown",
   "metadata": {},
   "source": [
    "# Question 2"
   ]
  },
  {
   "cell_type": "code",
   "execution_count": 2,
   "metadata": {},
   "outputs": [
    {
     "name": "stdout",
     "output_type": "stream",
     "text": [
      "Twinkle, twinkle, little star, \n",
      "\tHow I wonder what you are! \n",
      "\t\tUp above the world so high, \n",
      "\t\tLike a diamond in the sky. \n",
      "Twinkle, twinkle, little star, \n",
      "\tHow I wonder what you are!\n"
     ]
    }
   ],
   "source": [
    "print(\"Twinkle, twinkle, little star, \\n\\tHow I wonder what you are! \\n\\t\\tUp above the world so high, \\n\\t\\tLike a diamond in the sky. \\nTwinkle, twinkle, little star, \\n\\tHow I wonder what you are!\") "
   ]
  },
  {
   "cell_type": "markdown",
   "metadata": {},
   "source": [
    "# Question 3"
   ]
  },
  {
   "cell_type": "code",
   "execution_count": 3,
   "metadata": {},
   "outputs": [
    {
     "name": "stdout",
     "output_type": "stream",
     "text": [
      "Current date and time : \n",
      "2019-01-06 13:51:59\n"
     ]
    }
   ],
   "source": [
    "import datetime \n",
    "now = datetime.datetime.now() \n",
    "print (\"Current date and time : \") \n",
    "print (now.strftime(\"%Y-%m-%d %H:%M:%S\"))"
   ]
  },
  {
   "cell_type": "markdown",
   "metadata": {},
   "source": [
    "# Question 4"
   ]
  },
  {
   "cell_type": "code",
   "execution_count": 4,
   "metadata": {},
   "outputs": [
    {
     "name": "stdout",
     "output_type": "stream",
     "text": [
      "Input the radius of the circle : 9\n",
      "The area of the circle with radius 9.0 is: 254.46900494077323\n"
     ]
    }
   ],
   "source": [
    "from math import pi \n",
    "r = float(input (\"Input the radius of the circle : \")) \n",
    "print (\"The area of the circle with radius \" + str(r) + \" is: \" + str(pi * r**2)) "
   ]
  },
  {
   "cell_type": "markdown",
   "metadata": {},
   "source": [
    "# Question 5"
   ]
  },
  {
   "cell_type": "code",
   "execution_count": 5,
   "metadata": {},
   "outputs": [
    {
     "name": "stdout",
     "output_type": "stream",
     "text": [
      "Input your First Name : Saad\n",
      "Input your Last Name : Hasan\n",
      "Hello  Hasan Saad\n"
     ]
    }
   ],
   "source": [
    "fname = input(\"Input your First Name : \") \n",
    "lname = input(\"Input your Last Name : \") \n",
    "print (\"Hello  \" + lname + \" \" + fname) "
   ]
  },
  {
   "cell_type": "markdown",
   "metadata": {},
   "source": [
    "# Question 6"
   ]
  },
  {
   "cell_type": "code",
   "execution_count": 6,
   "metadata": {},
   "outputs": [
    {
     "name": "stdout",
     "output_type": "stream",
     "text": [
      "Input the year : 2019\n",
      "Input the month : 2\n",
      "   February 2019\n",
      "Mo Tu We Th Fr Sa Su\n",
      "             1  2  3\n",
      " 4  5  6  7  8  9 10\n",
      "11 12 13 14 15 16 17\n",
      "18 19 20 21 22 23 24\n",
      "25 26 27 28\n",
      "\n"
     ]
    }
   ],
   "source": [
    "import calendar \n",
    "y = int(input(\"Input the year : \")) \n",
    "m = int(input(\"Input the month : \")) \n",
    "print(calendar.month(y, m)) "
   ]
  },
  {
   "cell_type": "markdown",
   "metadata": {},
   "source": [
    "# Home Task"
   ]
  },
  {
   "cell_type": "markdown",
   "metadata": {},
   "source": [
    "# Question 1"
   ]
  },
  {
   "cell_type": "code",
   "execution_count": 1,
   "metadata": {},
   "outputs": [
    {
     "name": "stdout",
     "output_type": "stream",
     "text": [
      "Please enter the temperture in centigrade:35.5\n",
      "Temperture in Fahrenheit is,95.9!\n"
     ]
    }
   ],
   "source": [
    "temperture_in_centigrade = float(input(\"Please enter the temperture in centigrade:\"))\n",
    "temperture_in_fahrenheit = ((temperture_in_centigrade*1.8)+32)\n",
    "print(\"Temperture in Fahrenheit is,\"+ str(temperture_in_fahrenheit)+\" !\")"
   ]
  },
  {
   "cell_type": "markdown",
   "metadata": {},
   "source": [
    "# Question 2"
   ]
  },
  {
   "cell_type": "code",
   "execution_count": 2,
   "metadata": {},
   "outputs": [
    {
     "name": "stdout",
     "output_type": "stream",
     "text": [
      "Please enter the temperture in fahrenheit:95.9\n",
      "Temperture in Centigrade is,35.5!\n"
     ]
    }
   ],
   "source": [
    "temperture_in_fahrenheit = float(input(\"Please enter the temperture in fahrenheit:\"))\n",
    "temperture_in_centigrade = ((temperture_in_fahrenheit-32)/1.8)\n",
    "print(\"Temperture in Centigrade is,\"+ str(temperture_in_centigrade)+\" !\")"
   ]
  },
  {
   "cell_type": "markdown",
   "metadata": {},
   "source": [
    "# Question 3"
   ]
  },
  {
   "cell_type": "code",
   "execution_count": 9,
   "metadata": {},
   "outputs": [
    {
     "name": "stdout",
     "output_type": "stream",
     "text": [
      "Please input the length of rectangle:20\n",
      "Please input the breath of rectangle:10\n",
      "200\n"
     ]
    }
   ],
   "source": [
    "length = int(input(\"Please input the length of rectangle:\"))\n",
    "breath = int(input(\"Please input the breath of rectangle:\"))\n",
    "area_of_rectangle = length * breath\n",
    "print(area_of_rectangle)"
   ]
  },
  {
   "cell_type": "markdown",
   "metadata": {},
   "source": [
    "# Question 4"
   ]
  },
  {
   "cell_type": "code",
   "execution_count": 11,
   "metadata": {},
   "outputs": [
    {
     "name": "stdout",
     "output_type": "stream",
     "text": [
      "Please input the radius of sphere:9\n",
      "3053.6280592892786\n"
     ]
    }
   ],
   "source": [
    "from math import pi\n",
    "radius = int(input(\"Please input the radius of sphere:\"))\n",
    "voloume_of_sphere = 4/3*pi*radius**3\n",
    "print(voloume_of_sphere)"
   ]
  },
  {
   "cell_type": "markdown",
   "metadata": {},
   "source": [
    "# Question 5"
   ]
  },
  {
   "cell_type": "code",
   "execution_count": 12,
   "metadata": {},
   "outputs": [
    {
     "name": "stdout",
     "output_type": "stream",
     "text": [
      "Muhammad Saad Hassan\n",
      "MUHAMMAD SAAD HASSAN\n",
      "muhammad saad hassan\n"
     ]
    }
   ],
   "source": [
    "name =\"MuHaMmAd SaAd HaSsAn\"\n",
    "# three functions can be used  title(),upper(),lower()\n",
    "print(name.title())\n",
    "print(name.upper())\n",
    "print(name.lower())"
   ]
  },
  {
   "cell_type": "code",
   "execution_count": null,
   "metadata": {},
   "outputs": [],
   "source": []
  }
 ],
 "metadata": {
  "kernelspec": {
   "display_name": "Python 3",
   "language": "python",
   "name": "python3"
  },
  "language_info": {
   "codemirror_mode": {
    "name": "ipython",
    "version": 3
   },
   "file_extension": ".py",
   "mimetype": "text/x-python",
   "name": "python",
   "nbconvert_exporter": "python",
   "pygments_lexer": "ipython3",
   "version": "3.6.4"
  }
 },
 "nbformat": 4,
 "nbformat_minor": 2
}
